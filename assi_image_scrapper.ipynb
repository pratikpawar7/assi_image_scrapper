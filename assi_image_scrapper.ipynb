{
 "cells": [
  {
   "cell_type": "code",
   "execution_count": null,
   "id": "9e93c09d-1b0b-4a67-9150-f68a5d2cf548",
   "metadata": {},
   "outputs": [],
   "source": []
  },
  {
   "cell_type": "code",
   "execution_count": 6,
   "id": "13a6ecd4-f881-4cf6-9dd2-ea16be2b567b",
   "metadata": {},
   "outputs": [],
   "source": [
    "'''\n",
    "Q1. Write a python program to extract the video URL of the first five videos.\n",
    "'''\n",
    "import requests\n",
    "from bs4 import BeautifulSoup\n",
    "\n",
    "# URL of the channel's videos page\n",
    "url = 'https://www.youtube.com/@PW-Foundation/videos'\n",
    "\n",
    "# Send a GET request to the URL\n",
    "response = requests.get(url)\n",
    "soup = BeautifulSoup(response.content, 'html.parser')\n",
    "\n",
    "# Find the first five video links\n",
    "videos = soup.find_all('a', id='video-title', limit=5)\n",
    "\n",
    "# Extract and print the URLs of the first five videos\n",
    "video_urls = ['https://www.youtube.com' + video['href'] for video in videos]\n",
    "\n",
    "# Output the video URLs\n",
    "for idx, video_url in enumerate(video_urls, 1):\n",
    "    print(f\"Video {idx} URL: {video_url}\")\n",
    "\n",
    "\n"
   ]
  },
  {
   "cell_type": "code",
   "execution_count": 5,
   "id": "be0dd81d-953d-4aca-8822-d57ac9badd3c",
   "metadata": {},
   "outputs": [],
   "source": [
    "'''\n",
    "Q2. Write a python program to extract the URL of the video thumbnails of the first five videos.\n",
    "'''\n",
    "import requests\n",
    "from bs4 import BeautifulSoup\n",
    "\n",
    "# URL of the channel's videos page\n",
    "url = 'https://www.youtube.com/@PW-Foundation/videos'\n",
    "\n",
    "# Send a GET request to the URL\n",
    "response = requests.get(url)\n",
    "soup = BeautifulSoup(response.content, 'html.parser')\n",
    "\n",
    "# Find the first five video links\n",
    "videos = soup.find_all('a', id='video-title', limit=5)\n",
    "\n",
    "# Extract and construct the thumbnail URLs\n",
    "thumbnail_urls = []\n",
    "for video in videos:\n",
    "    video_id = video['href'].split('=')[1]\n",
    "    thumbnail_url = f\"https://i.ytimg.com/vi/{video_id}/hqdefault.jpg\"\n",
    "    thumbnail_urls.append(thumbnail_url)\n",
    "\n",
    "# Output the thumbnail URLs\n",
    "for idx, thumbnail_url in enumerate(thumbnail_urls, 1):\n",
    "    print(f\"Thumbnail {idx} URL: {thumbnail_url}\")\n"
   ]
  },
  {
   "cell_type": "code",
   "execution_count": 7,
   "id": "53db802f-72d1-47c7-b7fd-09983914c6d0",
   "metadata": {},
   "outputs": [],
   "source": []
  },
  {
   "cell_type": "code",
   "execution_count": null,
   "id": "3e6b7ade-ab87-40dd-8020-f8ddbf75b253",
   "metadata": {},
   "outputs": [],
   "source": []
  },
  {
   "cell_type": "code",
   "execution_count": null,
   "id": "d9f983cb-d6ee-4dee-bf82-3574bfbc6e06",
   "metadata": {},
   "outputs": [],
   "source": []
  },
  {
   "cell_type": "code",
   "execution_count": null,
   "id": "15cb7d13-0403-4b90-aa0b-c8ad318749ea",
   "metadata": {},
   "outputs": [],
   "source": []
  },
  {
   "cell_type": "code",
   "execution_count": null,
   "id": "6fa095be-2793-47ef-875b-cc0867fe8b43",
   "metadata": {},
   "outputs": [],
   "source": []
  }
 ],
 "metadata": {
  "kernelspec": {
   "display_name": "Python 3 (ipykernel)",
   "language": "python",
   "name": "python3"
  },
  "language_info": {
   "codemirror_mode": {
    "name": "ipython",
    "version": 3
   },
   "file_extension": ".py",
   "mimetype": "text/x-python",
   "name": "python",
   "nbconvert_exporter": "python",
   "pygments_lexer": "ipython3",
   "version": "3.10.8"
  }
 },
 "nbformat": 4,
 "nbformat_minor": 5
}
